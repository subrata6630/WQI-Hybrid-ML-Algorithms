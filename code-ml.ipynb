import pandas as pd
import numpy as np
from sklearn.model_selection import train_test_split
from sklearn.preprocessing import StandardScaler
from sklearn.ensemble import RandomForestRegressor, BaggingRegressor, GradientBoostingRegressor
from sklearn.tree import DecisionTreeRegressor
from sklearn.metrics import mean_squared_error, mean_absolute_error, r2_score

# Extra metrics
def nse(y_true, y_pred):
    return 1 - np.sum((y_true - y_pred) ** 2) / np.sum((y_true - np.mean(y_true)) ** 2)

def pbias(y_true, y_pred):
    return 100 * np.sum(y_true - y_pred) / np.sum(y_true)

# Load cleaned dataset
df = pd.read_csv("cleaned_data.csv")

# Replace any missing/infinite values again just in case
df.replace([np.inf, -np.inf], np.nan, inplace=True)
df.dropna(inplace=True)

# Separate features and target (assume last column is WQI)
X = df.iloc[:, :-1]
y = df.iloc[:, -1]

# Train/test split
X_train, X_test, y_train, y_test = train_test_split(X, y, test_size=0.2, random_state=42)

# Standardize features
scaler = StandardScaler()
X_train_scaled = scaler.fit_transform(X_train)
X_test_scaled = scaler.transform(X_test)

# Define models
models = {
    "Random Forest": RandomForestRegressor(n_estimators=100, random_state=42),
    "RF + Bagging": BaggingRegressor(base_estimator=RandomForestRegressor(n_estimators=50), n_estimators=10, random_state=42),
    "DT + Bagging": BaggingRegressor(base_estimator=DecisionTreeRegressor(), n_estimators=50, random_state=42),
    "Gradient Boosting": GradientBoostingRegressor(n_estimators=100, random_state=42)
}

# Train & evaluate models
results = []

for name, model in models.items():
    model.fit(X_train_scaled, y_train)
    y_pred = model.predict(X_test_scaled)
    
    r2 = r2_score(y_test, y_pred)
    rmse = mean_squared_error(y_test, y_pred, squared=False)
    mae = mean_absolute_error(y_test, y_pred)
    nse_val = nse(y_test, y_pred)
    pbias_val = pbias(y_test, y_pred)
    
    results.append({
        "Model": name,
        "R²": round(r2, 4),
        "RMSE": round(rmse, 4),
        "MAE": round(mae, 4),
        "NSE": round(nse_val, 4),
        "PBIAS": round(pbias_val, 4)
    })

# Show results
results_df = pd.DataFrame(results)
print("📊 Model Performance Comparison:\n")
print(results_df)

# Save results
results_df.to_csv("model_evaluation_results.csv", index=False)
